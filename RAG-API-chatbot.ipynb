{
 "cells": [
  {
   "cell_type": "code",
   "execution_count": 76,
   "id": "da7cdfa8-cfda-4d1c-931c-d289f37e66bd",
   "metadata": {},
   "outputs": [],
   "source": [
    "# Packages Imported\n",
    "import pdfplumber\n",
    "import chromadb\n",
    "from sentence_transformers import SentenceTransformer\n",
    "import pandas as pd\n",
    "import streamlit as st\n",
    "from chromadb.utils import embedding_functions\n",
    "import openai"
   ]
  },
  {
   "cell_type": "code",
   "execution_count": 77,
   "id": "b21d8ecc-228f-424a-80a7-51fa10fe8900",
   "metadata": {},
   "outputs": [],
   "source": [
    "# Extracting the text from the pdf \n",
    "with pdfplumber.open(\"Something_Something.pdf\") as pdf:\n",
    "    full_text = \"\"\n",
    "    for page in pdf.pages:\n",
    "        page_text = page.extract_text()\n",
    "        if page_text:\n",
    "            full_text += page_text + \"\\n\""
   ]
  },
  {
   "cell_type": "code",
   "execution_count": 78,
   "id": "46ccddea-3440-4613-b9b9-3cd3d5db60ae",
   "metadata": {},
   "outputs": [
    {
     "name": "stdout",
     "output_type": "stream",
     "text": [
      "Total words in movie text: 576\n"
     ]
    }
   ],
   "source": [
    "# Count total words in the full text\n",
    "total_words = len(full_text.split())\n",
    "print(\"Total words in movie text:\", total_words)"
   ]
  },
  {
   "cell_type": "code",
   "execution_count": 79,
   "id": "f571c6f9-8b20-4efc-9b0c-1ce09d149f07",
   "metadata": {},
   "outputs": [],
   "source": [
    "# Split text into chunks by the keyword \"Scene\"\n",
    "chunks = full_text.split(\"Scene\")\n",
    "\n",
    "# Re-add the word \"Scene\" to each chunk and clean up\n",
    "chunks = [\"Scene\" + chunk.strip() for chunk in chunks if chunk.strip()]\n"
   ]
  },
  {
   "cell_type": "code",
   "execution_count": 80,
   "id": "248b1a47-912b-45d3-841a-bc528f828099",
   "metadata": {},
   "outputs": [],
   "source": [
    "# Load the Embedding Model\n",
    "embedding_function = embedding_functions.SentenceTransformerEmbeddingFunction(\n",
    "    model_name=\"all-MiniLM-L6-v2\"\n",
    ")"
   ]
  },
  {
   "cell_type": "code",
   "execution_count": 81,
   "id": "7283c1fb-8613-4e32-bae4-caddcae012fa",
   "metadata": {},
   "outputs": [],
   "source": [
    "# Start ChromaDB and Create a Collection\n",
    "chroma_client = chromadb.Client()\n",
    "collection = chroma_client.get_or_create_collection(\n",
    "    name=\"movie_script\", \n",
    "    embedding_function=embedding_function\n",
    ")"
   ]
  },
  {
   "cell_type": "code",
   "execution_count": 82,
   "id": "e88a011c-6625-4961-8daf-14d064c3b8a2",
   "metadata": {},
   "outputs": [],
   "source": [
    "# Store Chunks into ChromaDB\n",
    "for i, chunk in enumerate(chunks):\n",
    "    collection.add(\n",
    "        documents=[chunk],\n",
    "        ids=[f\"scene_{i}\"]\n",
    "    )"
   ]
  },
  {
   "cell_type": "code",
   "execution_count": 83,
   "id": "bcecb5f5-13a3-432d-871c-fbd1dabd5913",
   "metadata": {},
   "outputs": [],
   "source": [
    "# creating the prompt \n",
    "def create_prompt(context, question):\n",
    "    return f\"Context: {context}\\n\\nQuestion: {question}\\nAnswer:\"\n"
   ]
  },
  {
   "cell_type": "code",
   "execution_count": 84,
   "id": "b36de3a8-58ca-4e1e-ba63-891205781793",
   "metadata": {},
   "outputs": [],
   "source": [
    "# Getting response from gpt\n",
    "openai.api_key = \"xxxxxxxxxxxxxxxxxxxxxxxxxxxxxxxxxxxxxxxxxxxxxxxxxxxx\"\n",
    "\n",
    "client = openai.OpenAI(api_key=openai.api_key )  # new client-style\n",
    "\n",
    "def get_gpt_answer(prompt):\n",
    "    response = client.chat.completions.create(\n",
    "        model=\"gpt-3.5-turbo\",\n",
    "        messages=[\n",
    "            {\"role\": \"system\", \"content\": \"You are a helpful assistant.\"},\n",
    "            {\"role\": \"user\", \"content\": prompt}\n",
    "        ],\n",
    "        temperature=0.5,\n",
    "        max_tokens=200\n",
    "    )\n",
    "    return response.choices[0].message.content"
   ]
  },
  {
   "cell_type": "code",
   "execution_count": 85,
   "id": "7cb430d7-482e-4bc8-b936-aa62924b7093",
   "metadata": {},
   "outputs": [
    {
     "name": "stdout",
     "output_type": "stream",
     "text": [
      "Ask anything about the movie! (type 'exit' to stop)\n",
      "\n"
     ]
    },
    {
     "name": "stdin",
     "output_type": "stream",
     "text": [
      "You:  where did kavitha meet santhosh in the tamil movie something something ?\n"
     ]
    },
    {
     "name": "stdout",
     "output_type": "stream",
     "text": [
      "\n",
      "Retrieved Chunk:\n",
      " Scene4: Enter Santhosh The Hero\n",
      "At the wedding, Kavitha meets Santhosh (Jayam Ravi), a rich, westernized NRI from London who is\n",
      "also Lalithas cousin. He is fun-loving, talkative, and charming. He immediately becomes interested\n",
      "in Kavitha.\n",
      "\n",
      "Answer: Kavitha meets Santhosh at the wedding in the Tamil movie \"Something Something.\"\n",
      "--------------------------------------------------\n"
     ]
    },
    {
     "name": "stdin",
     "output_type": "stream",
     "text": [
      "You:  who is muthupandi to kavitha in the movie something something\n"
     ]
    },
    {
     "name": "stdout",
     "output_type": "stream",
     "text": [
      "\n",
      "Retrieved Chunk:\n",
      " Scene2: Introduction to Muthupandi and Kavitha\n",
      "The flashback begins in a small Tamil Nadu village. Muthupandi is a caring, hard-working brother\n",
      "who raised his younger sister Kavitha (Trisha) after their mother died. They live modestly but with\n",
      "strong family values and immense affection for each other.\n",
      "\n",
      "Answer: Muthupandi is Kavitha's caring and hard-working brother in the movie \"Something Something.\" He raised her after their mother passed away, showing immense affection for her and instilling strong family values in their lives.\n",
      "--------------------------------------------------\n"
     ]
    },
    {
     "name": "stdin",
     "output_type": "stream",
     "text": [
      "You:  exit\n"
     ]
    },
    {
     "name": "stdout",
     "output_type": "stream",
     "text": [
      "Chat ended.\n"
     ]
    }
   ],
   "source": [
    "print(\"Ask anything about the movie! (type 'exit' to stop)\\n\")\n",
    "\n",
    "while True:\n",
    "    question = input(\"You: \")\n",
    "\n",
    "    if question.lower() == \"exit\":\n",
    "        print(\"Chat ended.\")\n",
    "        break\n",
    "\n",
    "    results = collection.query(query_texts=[question], n_results=1)\n",
    "    chunk = results[\"documents\"][0][0]  # directly get the top scene\n",
    "\n",
    "    print(\"\\nRetrieved Chunk:\\n\", chunk)\n",
    "\n",
    "\n",
    "    prompt = create_prompt(chunk, question)\n",
    "    answer = get_gpt_answer(prompt)\n",
    "\n",
    "    print(\"\\nAnswer:\", answer)\n",
    "    print(\"-\" * 50)\n"
   ]
  }
 ],
 "metadata": {
  "kernelspec": {
   "display_name": "Python 3 (ipykernel)",
   "language": "python",
   "name": "python3"
  },
  "language_info": {
   "codemirror_mode": {
    "name": "ipython",
    "version": 3
   },
   "file_extension": ".py",
   "mimetype": "text/x-python",
   "name": "python",
   "nbconvert_exporter": "python",
   "pygments_lexer": "ipython3",
   "version": "3.12.7"
  }
 },
 "nbformat": 4,
 "nbformat_minor": 5
}
